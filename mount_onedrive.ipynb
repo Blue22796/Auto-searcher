{
  "nbformat": 4,
  "nbformat_minor": 0,
  "metadata": {
    "colab": {
      "name": "mount onedrive.ipynb",
      "provenance": [],
      "include_colab_link": true
    },
    "kernelspec": {
      "name": "python3",
      "display_name": "Python 3"
    },
    "language_info": {
      "name": "python"
    },
    "widgets": {
      "application/vnd.jupyter.widget-state+json": {
        "fd9cd18c2cd74b03b29177abb18e566c": {
          "model_module": "@jupyter-widgets/controls",
          "model_name": "FloatSliderModel",
          "model_module_version": "1.5.0",
          "state": {
            "_dom_classes": [],
            "_model_module": "@jupyter-widgets/controls",
            "_model_module_version": "1.5.0",
            "_model_name": "FloatSliderModel",
            "_view_count": null,
            "_view_module": "@jupyter-widgets/controls",
            "_view_module_version": "1.5.0",
            "_view_name": "FloatSliderView",
            "continuous_update": true,
            "description": "Yakuza 3 Remastered [FitGirl Repack] 2396.251 kB/s downloading",
            "description_tooltip": null,
            "disabled": true,
            "layout": "IPY_MODEL_37dc84ff4e184cb4b44d9a291f76809a",
            "max": 100,
            "min": 0,
            "orientation": "horizontal",
            "readout": true,
            "readout_format": ".2f",
            "step": 0.01,
            "style": "IPY_MODEL_d8d592dec51a4c9685fa7970e41f4a6d",
            "value": 99.99769926071167
          }
        },
        "37dc84ff4e184cb4b44d9a291f76809a": {
          "model_module": "@jupyter-widgets/base",
          "model_name": "LayoutModel",
          "model_module_version": "1.2.0",
          "state": {
            "_model_module": "@jupyter-widgets/base",
            "_model_module_version": "1.2.0",
            "_model_name": "LayoutModel",
            "_view_count": null,
            "_view_module": "@jupyter-widgets/base",
            "_view_module_version": "1.2.0",
            "_view_name": "LayoutView",
            "align_content": null,
            "align_items": null,
            "align_self": null,
            "border": null,
            "bottom": null,
            "display": null,
            "flex": null,
            "flex_flow": null,
            "grid_area": null,
            "grid_auto_columns": null,
            "grid_auto_flow": null,
            "grid_auto_rows": null,
            "grid_column": null,
            "grid_gap": null,
            "grid_row": null,
            "grid_template_areas": null,
            "grid_template_columns": null,
            "grid_template_rows": null,
            "height": null,
            "justify_content": null,
            "justify_items": null,
            "left": null,
            "margin": null,
            "max_height": null,
            "max_width": null,
            "min_height": null,
            "min_width": null,
            "object_fit": null,
            "object_position": null,
            "order": null,
            "overflow": null,
            "overflow_x": null,
            "overflow_y": null,
            "padding": null,
            "right": null,
            "top": null,
            "visibility": null,
            "width": "auto"
          }
        },
        "d8d592dec51a4c9685fa7970e41f4a6d": {
          "model_module": "@jupyter-widgets/controls",
          "model_name": "SliderStyleModel",
          "model_module_version": "1.5.0",
          "state": {
            "_model_module": "@jupyter-widgets/controls",
            "_model_module_version": "1.5.0",
            "_model_name": "SliderStyleModel",
            "_view_count": null,
            "_view_module": "@jupyter-widgets/base",
            "_view_module_version": "1.2.0",
            "_view_name": "StyleView",
            "description_width": "initial",
            "handle_color": null
          }
        },
        "6a9dabff3c164af6be6d147b83012f0f": {
          "model_module": "@jupyter-widgets/controls",
          "model_name": "FloatSliderModel",
          "model_module_version": "1.5.0",
          "state": {
            "_dom_classes": [],
            "_model_module": "@jupyter-widgets/controls",
            "_model_module_version": "1.5.0",
            "_model_name": "FloatSliderModel",
            "_view_count": null,
            "_view_module": "@jupyter-widgets/controls",
            "_view_module_version": "1.5.0",
            "_view_name": "FloatSliderView",
            "continuous_update": true,
            "description": "Star Ocean - The Divine Force [FitGirl Repack] 4617.734 kB/s downloading",
            "description_tooltip": null,
            "disabled": true,
            "layout": "IPY_MODEL_37dc84ff4e184cb4b44d9a291f76809a",
            "max": 100,
            "min": 0,
            "orientation": "horizontal",
            "readout": true,
            "readout_format": ".2f",
            "step": 0.01,
            "style": "IPY_MODEL_fc5bf0726db04e3fbe7a139eb888a129",
            "value": 99.99920129776001
          }
        },
        "fc5bf0726db04e3fbe7a139eb888a129": {
          "model_module": "@jupyter-widgets/controls",
          "model_name": "SliderStyleModel",
          "model_module_version": "1.5.0",
          "state": {
            "_model_module": "@jupyter-widgets/controls",
            "_model_module_version": "1.5.0",
            "_model_name": "SliderStyleModel",
            "_view_count": null,
            "_view_module": "@jupyter-widgets/base",
            "_view_module_version": "1.2.0",
            "_view_name": "StyleView",
            "description_width": "initial",
            "handle_color": null
          }
        }
      }
    }
  },
  "cells": [
    {
      "cell_type": "markdown",
      "metadata": {
        "id": "view-in-github",
        "colab_type": "text"
      },
      "source": [
        "<a href=\"https://colab.research.google.com/github/Blue22796/Auto-searcher/blob/main/mount_onedrive.ipynb\" target=\"_parent\"><img src=\"https://colab.research.google.com/assets/colab-badge.svg\" alt=\"Open In Colab\"/></a>"
      ]
    },
    {
      "cell_type": "code",
      "metadata": {
        "id": "rxZFBYT97u7Y",
        "cellView": "form"
      },
      "source": [
        "#@markdown Tutorial adapted from https://www.youtube.com/watch?v=U6YPgARhRzA\n",
        "\n",
        "#@markdown The first step is to download a copy of rclone from https://downloads.rclone.org **in your system**, unzip it and execute in a terminal `rclone authorize \"onedrive\"`, log into your account and copy the access token. Then run the cell to install `rclone` in Colab.\n",
        "\n",
        "!wget https://downloads.rclone.org/v1.56.0/rclone-v1.56.0-linux-amd64.deb\n",
        "!apt install ./rclone-v1.56.0-linux-amd64.deb"
      ],
      "execution_count": null,
      "outputs": []
    },
    {
      "cell_type": "code",
      "metadata": {
        "id": "4Bu5pyRi8JIe",
        "cellView": "form"
      },
      "source": [
        "#@markdown Run this cell, and in rclone config, select `n` for new remote, name it `onedrive` and check the number in the list corresponding to onedrive (`26` in the current version). Then press enter for `client_id` and for `client_secret`, then `n` to avoid avanced config and `n` for auto config.\n",
        "#@markdown Then paste the access token code generated in your machine, and select number 1 for \"Onedrive personal\" or \"Onedrive business\"\n",
        "#@markdown Then, in \"found drives\" check that the configuration is ok, depending on the one you want to mount. Then select `y` twice and `q` to quit the configuration.\n",
        "!rclone config"
      ],
      "execution_count": null,
      "outputs": []
    },
    {
      "cell_type": "code",
      "metadata": {
        "id": "vmB5dk1X9wfJ",
        "cellView": "form"
      },
      "source": [
        "#@markdown Then, you can mount the drive in `\\content\\gdrive` to use it seamlessly in the ZeroCostDL4Mic notebooks\n",
        "import os\n",
        "import sys\n",
        "folder_name = \"gdrive\" #@param {type:\"string\"}\n",
        "folder=str('/content/'+folder_name)\n",
        "print(\"Mounted in\",folder)\n",
        "os.mkdir(folder)\n",
        "os.system(\"nohup rclone --vfs-cache-mode writes mount onedrive: %s &\" % folder)"
      ],
      "execution_count": null,
      "outputs": []
    },
    {
      "cell_type": "code",
      "source": [
        "!python -m pip install --upgrade pip setuptools wheel\n",
        "\n",
        "!python -m pip install lbry-libtorrent\n",
        "!apt install python3-libtorrent"
      ],
      "metadata": {
        "colab": {
          "base_uri": "https://localhost:8080/"
        },
        "id": "dXYey5fFCZzB",
        "outputId": "aa228df7-57ca-40a9-c0e6-c4abb571394e"
      },
      "execution_count": 2,
      "outputs": [
        {
          "output_type": "stream",
          "name": "stdout",
          "text": [
            "Requirement already satisfied: pip in /usr/local/lib/python3.11/dist-packages (25.0.1)\n",
            "Requirement already satisfied: setuptools in /usr/local/lib/python3.11/dist-packages (79.0.1)\n",
            "Requirement already satisfied: wheel in /usr/local/lib/python3.11/dist-packages (0.45.1)\n",
            "\u001b[33mWARNING: Error parsing dependencies of libtorrent: Invalid version: '2.0.5-build-libtorrent-rasterbar-qrM5vM-libtorrent-rasterbar-2.0.5-bindings-python'\u001b[0m\u001b[33m\n",
            "\u001b[0mRequirement already satisfied: lbry-libtorrent in /usr/local/lib/python3.11/dist-packages (1.2.4)\n",
            "\u001b[33mWARNING: Error parsing dependencies of libtorrent: Invalid version: '2.0.5-build-libtorrent-rasterbar-qrM5vM-libtorrent-rasterbar-2.0.5-bindings-python'\u001b[0m\u001b[33m\n",
            "Reading package lists... Done\n",
            "Building dependency tree... Done\n",
            "Reading state information... Done\n",
            "python3-libtorrent is already the newest version (2.0.5-5).\n",
            "0 upgraded, 0 newly installed, 0 to remove and 34 not upgraded.\n"
          ]
        }
      ]
    },
    {
      "cell_type": "code",
      "metadata": {
        "id": "b09BxnANO2ep"
      },
      "source": [
        "%%capture\n",
        "!python -m pip install --upgrade pip setuptools wheel\n",
        "\n",
        "!python -m pip install lbry-libtorrent\n",
        "!apt install python3-libtorrent\n",
        "import libtorrent as lt\n",
        "\n",
        "ses = lt.session()\n",
        "ses.listen_on(6881, 6891)\n",
        "downloads = []"
      ],
      "execution_count": 7,
      "outputs": []
    },
    {
      "cell_type": "code",
      "metadata": {
        "id": "oWM9l2fvtuvO",
        "outputId": "80f694c1-bc02-47e4-9a12-699cd229416e",
        "colab": {
          "base_uri": "https://localhost:8080/"
        }
      },
      "source": [
        "from google.colab import drive\n",
        "\n",
        "drive.mount(\"/content/drive\")"
      ],
      "execution_count": 5,
      "outputs": [
        {
          "output_type": "stream",
          "name": "stdout",
          "text": [
            "Mounted at /content/drive\n"
          ]
        }
      ]
    },
    {
      "cell_type": "code",
      "metadata": {
        "id": "Cwi1GMlxy3te",
        "colab": {
          "base_uri": "https://localhost:8080/"
        },
        "outputId": "5d6ecd80-3b45-4eba-a907-bb213fc6bafe"
      },
      "source": [
        "params = {\"save_path\": \"/content/sample_data/Torrent\"}\n",
        "#params = {\"save_path\" : \"/content/drive/MyDrive/Torrent\"}\n",
        "\n",
        "while True:\n",
        "    magnet_link = input(\"Enter Magnet Link Or Type Exit: \")\n",
        "    if magnet_link.lower() == \"exit\":\n",
        "        break\n",
        "    downloads.append(\n",
        "        lt.add_magnet_uri(ses, magnet_link, params)\n",
        "    )\n"
      ],
      "execution_count": 8,
      "outputs": [
        {
          "name": "stdout",
          "output_type": "stream",
          "text": [
            "Enter Magnet Link Or Type Exit: magnet:?xt=urn:btih:8F7B8073991969F9220A6624530FC13C619EF17D&dn=Yakuza+3+Remastered+%28MULTi4%29+%5BFitGirl+Repack%5D&tr=udp%3A%2F%2F46.148.18.250%3A2710&tr=udp%3A%2F%2Fopentor.org%3A2710&tr=udp%3A%2F%2Ftracker.coppersurfer.tk%3A6969%2Fannounce&tr=udp%3A%2F%2Ftracker.opentrackr.org%3A1337%2Fannounce&tr=http%3A%2F%2Ftracker.dler.org%3A6969%2Fannounce&tr=udp%3A%2F%2Ftracker.leechers-paradise.org%3A6969%2Fannounce&tr=udp%3A%2F%2F9.rarbg.me%3A2730%2Fannounce&tr=udp%3A%2F%2F9.rarbg.to%3A2770%2Fannounce&tr=udp%3A%2F%2Ftracker.pirateparty.gr%3A6969%2Fannounce&tr=http%3A%2F%2Fretracker.local%2Fannounce&tr=http%3A%2F%2Fretracker.ip.ncnet.ru%2Fannounce&tr=udp%3A%2F%2Fexodus.desync.com%3A6969%2Fannounce&tr=udp%3A%2F%2Fipv4.tracker.harry.lu%3A80%2Fannounce&tr=udp%3A%2F%2Fopen.stealth.si%3A80%2Fannounce&tr=udp%3A%2F%2Ftracker.opentrackr.org%3A1337%2Fannounce&tr=http%3A%2F%2Ftracker.openbittorrent.com%3A80%2Fannounce&tr=udp%3A%2F%2Fopentracker.i2p.rocks%3A6969%2Fannounce&tr=udp%3A%2F%2Ftracker.internetwarriors.net%3A1337%2Fannounce&tr=udp%3A%2F%2Ftracker.leechers-paradise.org%3A6969%2Fannounce&tr=udp%3A%2F%2Fcoppersurfer.tk%3A6969%2Fannounce&tr=udp%3A%2F%2Ftracker.zer0day.to%3A1337%2Fannounce\n",
            "Enter Magnet Link Or Type Exit: magnet:?xt=urn:btih:2F3DDB5B05B3D1178AE9915E6D0D9EF70021F5B1&dn=Star+Ocean%3A+The+Divine+Force+%28v01.01%2FDenuvoless+%2B+All+DLCs%2C+MULTi6%29+%5BFitGirl+Repack%2C+Selective+Download+-+from+25.3+GB%5D&tr=udp%3A%2F%2Fopentor.net%3A6969&tr=udp%3A%2F%2Fopentor.org%3A2710&tr=udp%3A%2F%2F9.rarbg.me%3A2730%2Fannounce&tr=udp%3A%2F%2F9.rarbg.me%3A2770%2Fannounce&tr=udp%3A%2F%2F9.rarbg.to%3A2720%2Fannounce&tr=udp%3A%2F%2F9.rarbg.to%3A2730%2Fannounce&tr=udp%3A%2F%2F9.rarbg.to%3A2770%2Fannounce&tr=udp%3A%2F%2Fopentracker.i2p.rocks%3A6969%2Fannounce&tr=udp%3A%2F%2Ftracker.torrent.eu.org%3A451%2Fannounce&tr=https%3A%2F%2Ftracker.tamersunion.org%3A443%2Fannounce&tr=udp%3A%2F%2Fexodus.desync.com%3A6969%2Fannounce&tr=udp%3A%2F%2Ftracker.torrent.eu.org%3A451%2Fannounce&tr=http%3A%2F%2Ftracker.gbitt.info%3A80%2Fannounce&tr=http%3A%2F%2Ftracker.ccp.ovh%3A6969%2Fannounce&tr=udp%3A%2F%2Ftracker.opentrackr.org%3A1337%2Fannounce&tr=http%3A%2F%2Ftracker.openbittorrent.com%3A80%2Fannounce&tr=udp%3A%2F%2Fopentracker.i2p.rocks%3A6969%2Fannounce&tr=udp%3A%2F%2Ftracker.internetwarriors.net%3A1337%2Fannounce&tr=udp%3A%2F%2Ftracker.leechers-paradise.org%3A6969%2Fannounce&tr=udp%3A%2F%2Fcoppersurfer.tk%3A6969%2Fannounce&tr=udp%3A%2F%2Ftracker.zer0day.to%3A1337%2Fannounce\n",
            "Enter Magnet Link Or Type Exit: exit\n"
          ]
        }
      ]
    },
    {
      "cell_type": "code",
      "metadata": {
        "id": "DBNoYYoSuDBT",
        "colab": {
          "base_uri": "https://localhost:8080/",
          "height": 52,
          "referenced_widgets": [
            "fd9cd18c2cd74b03b29177abb18e566c",
            "37dc84ff4e184cb4b44d9a291f76809a",
            "d8d592dec51a4c9685fa7970e41f4a6d",
            "6a9dabff3c164af6be6d147b83012f0f",
            "fc5bf0726db04e3fbe7a139eb888a129"
          ]
        },
        "outputId": "a5a77495-86ad-4fa0-b390-c577138cf2b2"
      },
      "source": [
        "import time\n",
        "from IPython.display import display\n",
        "import ipywidgets as widgets\n",
        "\n",
        "state_str = [\n",
        "    \"queued\",\n",
        "    \"checking\",\n",
        "    \"downloading metadata\",\n",
        "    \"downloading\",\n",
        "    \"finished\",\n",
        "    \"seeding\",\n",
        "    \"allocating\",\n",
        "    \"checking fastresume\",\n",
        "]\n",
        "\n",
        "layout = widgets.Layout(width=\"auto\")\n",
        "style = {\"description_width\": \"initial\"}\n",
        "download_bars = [\n",
        "    widgets.FloatSlider(\n",
        "        step=0.01, disabled=True, layout=layout, style=style\n",
        "    )\n",
        "    for _ in downloads\n",
        "]\n",
        "display(*download_bars)\n",
        "\n",
        "while downloads:\n",
        "    next_shift = 0\n",
        "    for index, download in enumerate(downloads[:]):\n",
        "        bar = download_bars[index + next_shift]\n",
        "        if not download.is_seed():\n",
        "            s = download.status()\n",
        "\n",
        "            bar.description = \" \".join(\n",
        "                [\n",
        "                    download.name(),\n",
        "                    str(s.download_rate / 1000),\n",
        "                    \"kB/s\",\n",
        "                    state_str[s.state],\n",
        "                ]\n",
        "            )\n",
        "            bar.value = s.progress * 100\n",
        "        else:\n",
        "            next_shift -= 1\n",
        "            ses.remove_torrent(download)\n",
        "            downloads.remove(download)\n",
        "            bar.close() # Seems to be not working in Colab (see https://github.com/googlecolab/colabtools/issues/726#issue-486731758)\n",
        "            download_bars.remove(bar)\n",
        "            print(download.name(), \"complete\")\n",
        "    time.sleep(1)\n"
      ],
      "execution_count": 9,
      "outputs": [
        {
          "output_type": "display_data",
          "data": {
            "text/plain": [
              "FloatSlider(value=0.0, disabled=True, layout=Layout(width='auto'), step=0.01, style=SliderStyle(description_wi…"
            ],
            "application/vnd.jupyter.widget-view+json": {
              "version_major": 2,
              "version_minor": 0,
              "model_id": "fd9cd18c2cd74b03b29177abb18e566c"
            }
          },
          "metadata": {}
        },
        {
          "output_type": "display_data",
          "data": {
            "text/plain": [
              "FloatSlider(value=0.0, disabled=True, layout=Layout(width='auto'), step=0.01, style=SliderStyle(description_wi…"
            ],
            "application/vnd.jupyter.widget-view+json": {
              "version_major": 2,
              "version_minor": 0,
              "model_id": "6a9dabff3c164af6be6d147b83012f0f"
            }
          },
          "metadata": {}
        },
        {
          "output_type": "stream",
          "name": "stdout",
          "text": [
            "Yakuza 3 Remastered [FitGirl Repack] complete\n",
            "Star Ocean - The Divine Force [FitGirl Repack] complete\n"
          ]
        }
      ]
    },
    {
      "cell_type": "code",
      "source": [
        "def split_binary_file(input_file, chunk_size= 3 * 1024 * 1024 * 1024):  # 10 GB\n",
        "    with open(input_file, \"rb\") as f:\n",
        "        part = 1\n",
        "        while chunk := f.read(chunk_size):  # Read chunk of at most 10 GB\n",
        "            output_file = f\"{input_file}.part{part}\"\n",
        "            with open(output_file, \"wb\") as out:\n",
        "                out.write(chunk)\n",
        "            print(f\"Created {output_file}\")\n",
        "            part += 1\n"
      ],
      "metadata": {
        "id": "8pF3NaKzIGOC"
      },
      "execution_count": null,
      "outputs": []
    },
    {
      "cell_type": "code",
      "source": [
        "# Example usage\n",
        "split_binary_file(\"/content/sample_data/Torrent/Monster Hunter World - Iceborne [FitGirl Repack]/fg-01.bin\")\n"
      ],
      "metadata": {
        "colab": {
          "base_uri": "https://localhost:8080/"
        },
        "id": "7SR4URRiKsPP",
        "outputId": "63778c02-bb0b-4f81-80bb-197dffa0743c"
      },
      "execution_count": null,
      "outputs": [
        {
          "output_type": "stream",
          "name": "stdout",
          "text": [
            "Created /content/sample_data/Torrent/Monster Hunter World - Iceborne [FitGirl Repack]/fg-01.bin.part1\n",
            "Created /content/sample_data/Torrent/Monster Hunter World - Iceborne [FitGirl Repack]/fg-01.bin.part2\n",
            "Created /content/sample_data/Torrent/Monster Hunter World - Iceborne [FitGirl Repack]/fg-01.bin.part3\n",
            "Created /content/sample_data/Torrent/Monster Hunter World - Iceborne [FitGirl Repack]/fg-01.bin.part4\n",
            "Created /content/sample_data/Torrent/Monster Hunter World - Iceborne [FitGirl Repack]/fg-01.bin.part5\n",
            "Created /content/sample_data/Torrent/Monster Hunter World - Iceborne [FitGirl Repack]/fg-01.bin.part6\n",
            "Created /content/sample_data/Torrent/Monster Hunter World - Iceborne [FitGirl Repack]/fg-01.bin.part7\n",
            "Created /content/sample_data/Torrent/Monster Hunter World - Iceborne [FitGirl Repack]/fg-01.bin.part8\n",
            "Created /content/sample_data/Torrent/Monster Hunter World - Iceborne [FitGirl Repack]/fg-01.bin.part9\n",
            "Created /content/sample_data/Torrent/Monster Hunter World - Iceborne [FitGirl Repack]/fg-01.bin.part10\n",
            "Created /content/sample_data/Torrent/Monster Hunter World - Iceborne [FitGirl Repack]/fg-01.bin.part11\n"
          ]
        }
      ]
    },
    {
      "cell_type": "code",
      "source": [
        "from googleapiclient.discovery import build\n",
        "from googleapiclient.http import MediaFileUpload\n",
        "from google.oauth2 import service_account\n",
        "\n",
        "def upload_to_drive(file_path, folder_id=None):\n",
        "    \"\"\"Uploads a file to Google Drive.\"\"\"\n",
        "    SCOPES = ['https://www.googleapis.com/auth/drive.file']\n",
        "    SERVICE_ACCOUNT_FILE = '/content/sample_data/Torrent/glossy-flow-451423-k9-56b7c048a172.json'  # Update with your service account JSON file\n",
        "\n",
        "    creds = service_account.Credentials.from_service_account_file(\n",
        "        SERVICE_ACCOUNT_FILE, scopes=SCOPES)\n",
        "\n",
        "    service = build('drive', 'v3', credentials=creds)\n",
        "\n",
        "    file_metadata = {'name': file_path.split('/')[-1]}\n",
        "    if folder_id:\n",
        "        file_metadata['parents'] = [folder_id]\n",
        "\n",
        "    media = MediaFileUpload(file_path, resumable=True)\n",
        "    file = service.files().create(body=file_metadata, media_body=media, fields='id').execute()\n",
        "\n",
        "    print(f'File uploaded successfully, File ID: {file.get(\"id\")}')\n",
        "    return file.get(\"id\")\n"
      ],
      "metadata": {
        "id": "tdOQ2W5nb1Sf"
      },
      "execution_count": 10,
      "outputs": []
    },
    {
      "cell_type": "code",
      "source": [
        "folders = ['1nB16QQXIhPrCPDuzhVbwTy3fcyMbkT0U', '1EUYpoJti2QmJ0Yd78KnpyLSqK-Izlmp3', '1uu0nED0FmTSDI1WQw4Ypzq0T2ZjXs0xn', '1xBc8aVloW5mVIT2hs-IrVXRYpfxPbMBr', '1sP5h6JmEUat1JxQ9Pkf0tbnLeXcBuaJB']\n",
        "for i in range(1):\n",
        "  fil = '/content/sample_data/Torrent/Yakuza 3 Remastered [FitGirl Repack]/fg-01.bin'\n",
        "  upload_to_drive(fil, folders[0])\n",
        "  print(fil[-6:])"
      ],
      "metadata": {
        "colab": {
          "base_uri": "https://localhost:8080/",
          "height": 380
        },
        "id": "ZPrEcJWAb6JG",
        "outputId": "ad40b378-fe0f-4c09-f575-4959ec576483"
      },
      "execution_count": 11,
      "outputs": [
        {
          "output_type": "error",
          "ename": "FileNotFoundError",
          "evalue": "[Errno 2] No such file or directory: '/content/sample_data/Torrent/glossy-flow-451423-k9-56b7c048a172.json'",
          "traceback": [
            "\u001b[0;31m---------------------------------------------------------------------------\u001b[0m",
            "\u001b[0;31mFileNotFoundError\u001b[0m                         Traceback (most recent call last)",
            "\u001b[0;32m<ipython-input-11-be5de6fa788e>\u001b[0m in \u001b[0;36m<cell line: 0>\u001b[0;34m()\u001b[0m\n\u001b[1;32m      2\u001b[0m \u001b[0;32mfor\u001b[0m \u001b[0mi\u001b[0m \u001b[0;32min\u001b[0m \u001b[0mrange\u001b[0m\u001b[0;34m(\u001b[0m\u001b[0;36m11\u001b[0m\u001b[0;34m,\u001b[0m \u001b[0;36m12\u001b[0m\u001b[0;34m)\u001b[0m\u001b[0;34m:\u001b[0m\u001b[0;34m\u001b[0m\u001b[0;34m\u001b[0m\u001b[0m\n\u001b[1;32m      3\u001b[0m   \u001b[0mfil\u001b[0m \u001b[0;34m=\u001b[0m \u001b[0;34m'/content/sample_data/Torrent/Yakuza 3 Remastered [FitGirl Repack]/fg-01.bin'\u001b[0m\u001b[0;34m\u001b[0m\u001b[0;34m\u001b[0m\u001b[0m\n\u001b[0;32m----> 4\u001b[0;31m   \u001b[0mupload_to_drive\u001b[0m\u001b[0;34m(\u001b[0m\u001b[0mfil\u001b[0m\u001b[0;34m,\u001b[0m \u001b[0mfolders\u001b[0m\u001b[0;34m[\u001b[0m\u001b[0mi\u001b[0m\u001b[0;34m%\u001b[0m\u001b[0mlen\u001b[0m\u001b[0;34m(\u001b[0m\u001b[0mfolders\u001b[0m\u001b[0;34m)\u001b[0m\u001b[0;34m]\u001b[0m\u001b[0;34m)\u001b[0m\u001b[0;34m\u001b[0m\u001b[0;34m\u001b[0m\u001b[0m\n\u001b[0m\u001b[1;32m      5\u001b[0m   \u001b[0mprint\u001b[0m\u001b[0;34m(\u001b[0m\u001b[0mfil\u001b[0m\u001b[0;34m[\u001b[0m\u001b[0;34m-\u001b[0m\u001b[0;36m6\u001b[0m\u001b[0;34m:\u001b[0m\u001b[0;34m]\u001b[0m\u001b[0;34m)\u001b[0m\u001b[0;34m\u001b[0m\u001b[0;34m\u001b[0m\u001b[0m\n",
            "\u001b[0;32m<ipython-input-10-743a5919a992>\u001b[0m in \u001b[0;36mupload_to_drive\u001b[0;34m(file_path, folder_id)\u001b[0m\n\u001b[1;32m      8\u001b[0m     \u001b[0mSERVICE_ACCOUNT_FILE\u001b[0m \u001b[0;34m=\u001b[0m \u001b[0;34m'/content/sample_data/Torrent/glossy-flow-451423-k9-56b7c048a172.json'\u001b[0m  \u001b[0;31m# Update with your service account JSON file\u001b[0m\u001b[0;34m\u001b[0m\u001b[0;34m\u001b[0m\u001b[0m\n\u001b[1;32m      9\u001b[0m \u001b[0;34m\u001b[0m\u001b[0m\n\u001b[0;32m---> 10\u001b[0;31m     creds = service_account.Credentials.from_service_account_file(\n\u001b[0m\u001b[1;32m     11\u001b[0m         SERVICE_ACCOUNT_FILE, scopes=SCOPES)\n\u001b[1;32m     12\u001b[0m \u001b[0;34m\u001b[0m\u001b[0m\n",
            "\u001b[0;32m/usr/local/lib/python3.11/dist-packages/google/oauth2/service_account.py\u001b[0m in \u001b[0;36mfrom_service_account_file\u001b[0;34m(cls, filename, **kwargs)\u001b[0m\n\u001b[1;32m    258\u001b[0m                 \u001b[0mcredentials\u001b[0m\u001b[0;34m.\u001b[0m\u001b[0;34m\u001b[0m\u001b[0;34m\u001b[0m\u001b[0m\n\u001b[1;32m    259\u001b[0m         \"\"\"\n\u001b[0;32m--> 260\u001b[0;31m         info, signer = _service_account_info.from_filename(\n\u001b[0m\u001b[1;32m    261\u001b[0m             \u001b[0mfilename\u001b[0m\u001b[0;34m,\u001b[0m \u001b[0mrequire\u001b[0m\u001b[0;34m=\u001b[0m\u001b[0;34m[\u001b[0m\u001b[0;34m\"client_email\"\u001b[0m\u001b[0;34m,\u001b[0m \u001b[0;34m\"token_uri\"\u001b[0m\u001b[0;34m]\u001b[0m\u001b[0;34m\u001b[0m\u001b[0;34m\u001b[0m\u001b[0m\n\u001b[1;32m    262\u001b[0m         )\n",
            "\u001b[0;32m/usr/local/lib/python3.11/dist-packages/google/auth/_service_account_info.py\u001b[0m in \u001b[0;36mfrom_filename\u001b[0;34m(filename, require, use_rsa_signer)\u001b[0m\n\u001b[1;32m     76\u001b[0m             \u001b[0minfo\u001b[0m \u001b[0;32mand\u001b[0m \u001b[0ma\u001b[0m \u001b[0msigner\u001b[0m \u001b[0minstance\u001b[0m\u001b[0;34m.\u001b[0m\u001b[0;34m\u001b[0m\u001b[0;34m\u001b[0m\u001b[0m\n\u001b[1;32m     77\u001b[0m     \"\"\"\n\u001b[0;32m---> 78\u001b[0;31m     \u001b[0;32mwith\u001b[0m \u001b[0mio\u001b[0m\u001b[0;34m.\u001b[0m\u001b[0mopen\u001b[0m\u001b[0;34m(\u001b[0m\u001b[0mfilename\u001b[0m\u001b[0;34m,\u001b[0m \u001b[0;34m\"r\"\u001b[0m\u001b[0;34m,\u001b[0m \u001b[0mencoding\u001b[0m\u001b[0;34m=\u001b[0m\u001b[0;34m\"utf-8\"\u001b[0m\u001b[0;34m)\u001b[0m \u001b[0;32mas\u001b[0m \u001b[0mjson_file\u001b[0m\u001b[0;34m:\u001b[0m\u001b[0;34m\u001b[0m\u001b[0;34m\u001b[0m\u001b[0m\n\u001b[0m\u001b[1;32m     79\u001b[0m         \u001b[0mdata\u001b[0m \u001b[0;34m=\u001b[0m \u001b[0mjson\u001b[0m\u001b[0;34m.\u001b[0m\u001b[0mload\u001b[0m\u001b[0;34m(\u001b[0m\u001b[0mjson_file\u001b[0m\u001b[0;34m)\u001b[0m\u001b[0;34m\u001b[0m\u001b[0;34m\u001b[0m\u001b[0m\n\u001b[1;32m     80\u001b[0m         \u001b[0;32mreturn\u001b[0m \u001b[0mdata\u001b[0m\u001b[0;34m,\u001b[0m \u001b[0mfrom_dict\u001b[0m\u001b[0;34m(\u001b[0m\u001b[0mdata\u001b[0m\u001b[0;34m,\u001b[0m \u001b[0mrequire\u001b[0m\u001b[0;34m=\u001b[0m\u001b[0mrequire\u001b[0m\u001b[0;34m,\u001b[0m \u001b[0muse_rsa_signer\u001b[0m\u001b[0;34m=\u001b[0m\u001b[0muse_rsa_signer\u001b[0m\u001b[0;34m)\u001b[0m\u001b[0;34m\u001b[0m\u001b[0;34m\u001b[0m\u001b[0m\n",
            "\u001b[0;31mFileNotFoundError\u001b[0m: [Errno 2] No such file or directory: '/content/sample_data/Torrent/glossy-flow-451423-k9-56b7c048a172.json'"
          ]
        }
      ]
    },
    {
      "cell_type": "code",
      "source": [
        "from googleapiclient.discovery import build\n",
        "from google.oauth2.credentials import Credentials\n",
        "\n",
        "# Replace with your token or OAuth credentials\n",
        "SCOPES = ['https://www.googleapis.com/auth/drive.file']\n",
        "SERVICE_ACCOUNT_FILE = '/content/sample_data/Torrent/glossy-flow-451423-k9-56b7c048a172.json'  # Update with your service account JSON file\n",
        "creds = service_account.Credentials.from_service_account_file(\n",
        "        SERVICE_ACCOUNT_FILE, scopes=SCOPES)\n",
        "\n",
        "drive_service = build(\"drive\", \"v3\", credentials=creds)\n",
        "\n",
        "def list_files():\n",
        "    results = drive_service.files().list(fields=\"files(id, name)\").execute()\n",
        "    files = results.get(\"files\", [])\n",
        "\n",
        "    if not files:\n",
        "        print(\"No files found.\")\n",
        "    else:\n",
        "        for file in files:\n",
        "            print(f\"Found file: {file['name']} (ID: {file['id']})\")\n",
        "\n",
        "list_files()"
      ],
      "metadata": {
        "id": "nuv0-QGA7WQZ",
        "outputId": "f58a0087-8639-40e9-f096-e74ac0f0351e",
        "colab": {
          "base_uri": "https://localhost:8080/"
        }
      },
      "execution_count": 14,
      "outputs": [
        {
          "output_type": "stream",
          "name": "stdout",
          "text": [
            "Found file: fg-optional-japanese.bin (ID: 1RO9o2NbE7JB1kjUOX2adnTPKxf3u4AvZ)\n",
            "Found file: fg-optional-french.bin (ID: 1UCVNGwjqx0ISEldrvv_eS7HL4V1qq3Ia)\n",
            "Found file: fg-optional-credits.bin (ID: 1DaLK38JyiIMbTw3DSeimKgzgZ5ix41b9)\n",
            "Found file: fg-optional-bonus-content.bin (ID: 1qtFRV4eG-3TRA3aZht4rnb3aqaMnSOB4)\n",
            "Found file: ymnfg-03.bin (ID: 162hZxCA32f81oxFbog_mM8xo6ulLiSSM)\n",
            "Found file: ymnfg-02.bin (ID: 1vqySxCQTCJbBFg2CDJ7ZAosICd2ERkR8)\n",
            "Found file: ymnfg-01.bin (ID: 1jnGwI4qtc179KND4hUl3A_FvIEpWVzag)\n",
            "Found file: yfg-03.bin (ID: 19ao6Rggy_WtgN9FnlWwVTa-uiytKexJ9)\n",
            "Found file: fg-04.bin (ID: 1nr1qnUVg3eern0YOpbSMMWAozowPPoIc)\n",
            "Found file: fg-02.bin (ID: 1w24Sjs5aAEJ46_aLq--QjtwVLww3V2nP)\n",
            "Found file: fg-01.bin (ID: 1RcfhIcDz2dtgocnk_XAmNrjsDMC0r5sj)\n",
            "Found file: fg-03.bin (ID: 17FVqG6tlq6iFBtlroHlnI1vviSIONGPc)\n"
          ]
        }
      ]
    },
    {
      "cell_type": "code",
      "source": [
        "def delete_all_files():\n",
        "    results = drive_service.files().list(fields=\"files(id, name)\").execute()\n",
        "    files = results.get(\"files\", [])\n",
        "\n",
        "    if not files:\n",
        "        print(\"No files to delete.\")\n",
        "        return\n",
        "\n",
        "    for file in files:\n",
        "        try:\n",
        "            drive_service.files().delete(fileId=file[\"id\"]).execute()\n",
        "            print(f\"Deleted: {file['name']} (ID: {file['id']})\")\n",
        "        except Exception as e:\n",
        "            print(f\"Failed to delete {file['name']}: {e}\")\n",
        "\n",
        "delete_all_files()"
      ],
      "metadata": {
        "id": "TfHH4A1077Pl",
        "outputId": "d226177d-ce8c-4d30-b42a-a57f6c95a514",
        "colab": {
          "base_uri": "https://localhost:8080/"
        }
      },
      "execution_count": 15,
      "outputs": [
        {
          "output_type": "stream",
          "name": "stdout",
          "text": [
            "Deleted: fg-optional-japanese.bin (ID: 1RO9o2NbE7JB1kjUOX2adnTPKxf3u4AvZ)\n",
            "Deleted: fg-optional-french.bin (ID: 1UCVNGwjqx0ISEldrvv_eS7HL4V1qq3Ia)\n",
            "Deleted: fg-optional-credits.bin (ID: 1DaLK38JyiIMbTw3DSeimKgzgZ5ix41b9)\n",
            "Deleted: fg-optional-bonus-content.bin (ID: 1qtFRV4eG-3TRA3aZht4rnb3aqaMnSOB4)\n",
            "Deleted: ymnfg-03.bin (ID: 162hZxCA32f81oxFbog_mM8xo6ulLiSSM)\n",
            "Deleted: ymnfg-02.bin (ID: 1vqySxCQTCJbBFg2CDJ7ZAosICd2ERkR8)\n",
            "Deleted: ymnfg-01.bin (ID: 1jnGwI4qtc179KND4hUl3A_FvIEpWVzag)\n",
            "Deleted: yfg-03.bin (ID: 19ao6Rggy_WtgN9FnlWwVTa-uiytKexJ9)\n",
            "Deleted: fg-04.bin (ID: 1nr1qnUVg3eern0YOpbSMMWAozowPPoIc)\n",
            "Deleted: fg-02.bin (ID: 1w24Sjs5aAEJ46_aLq--QjtwVLww3V2nP)\n",
            "Deleted: fg-01.bin (ID: 1RcfhIcDz2dtgocnk_XAmNrjsDMC0r5sj)\n",
            "Deleted: fg-03.bin (ID: 17FVqG6tlq6iFBtlroHlnI1vviSIONGPc)\n"
          ]
        }
      ]
    }
  ]
}