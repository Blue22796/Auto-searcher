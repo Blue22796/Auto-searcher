{
  "nbformat": 4,
  "nbformat_minor": 0,
  "metadata": {
    "colab": {
      "name": "mount onedrive.ipynb",
      "provenance": [],
      "include_colab_link": true
    },
    "kernelspec": {
      "name": "python3",
      "display_name": "Python 3"
    },
    "language_info": {
      "name": "python"
    },
    "widgets": {
      "application/vnd.jupyter.widget-state+json": {
        "36a6f2685d69410887bd2322bacfe4c4": {
          "model_module": "@jupyter-widgets/controls",
          "model_name": "FloatSliderModel",
          "model_module_version": "1.5.0",
          "state": {
            "_dom_classes": [],
            "_model_module": "@jupyter-widgets/controls",
            "_model_module_version": "1.5.0",
            "_model_name": "FloatSliderModel",
            "_view_count": null,
            "_view_module": "@jupyter-widgets/controls",
            "_view_module_version": "1.5.0",
            "_view_name": "FloatSliderView",
            "continuous_update": true,
            "description": "Monster Hunter World - Iceborne [FitGirl Repack] 2316.499 kB/s downloading",
            "description_tooltip": null,
            "disabled": true,
            "layout": "IPY_MODEL_291cca627c2443a9878c6293314b7873",
            "max": 100,
            "min": 0,
            "orientation": "horizontal",
            "readout": true,
            "readout_format": ".2f",
            "step": 0.01,
            "style": "IPY_MODEL_8772c8c1f3b24941944b8784d15d8645",
            "value": 99.99949932098389
          }
        },
        "291cca627c2443a9878c6293314b7873": {
          "model_module": "@jupyter-widgets/base",
          "model_name": "LayoutModel",
          "model_module_version": "1.2.0",
          "state": {
            "_model_module": "@jupyter-widgets/base",
            "_model_module_version": "1.2.0",
            "_model_name": "LayoutModel",
            "_view_count": null,
            "_view_module": "@jupyter-widgets/base",
            "_view_module_version": "1.2.0",
            "_view_name": "LayoutView",
            "align_content": null,
            "align_items": null,
            "align_self": null,
            "border": null,
            "bottom": null,
            "display": null,
            "flex": null,
            "flex_flow": null,
            "grid_area": null,
            "grid_auto_columns": null,
            "grid_auto_flow": null,
            "grid_auto_rows": null,
            "grid_column": null,
            "grid_gap": null,
            "grid_row": null,
            "grid_template_areas": null,
            "grid_template_columns": null,
            "grid_template_rows": null,
            "height": null,
            "justify_content": null,
            "justify_items": null,
            "left": null,
            "margin": null,
            "max_height": null,
            "max_width": null,
            "min_height": null,
            "min_width": null,
            "object_fit": null,
            "object_position": null,
            "order": null,
            "overflow": null,
            "overflow_x": null,
            "overflow_y": null,
            "padding": null,
            "right": null,
            "top": null,
            "visibility": null,
            "width": "auto"
          }
        },
        "8772c8c1f3b24941944b8784d15d8645": {
          "model_module": "@jupyter-widgets/controls",
          "model_name": "SliderStyleModel",
          "model_module_version": "1.5.0",
          "state": {
            "_model_module": "@jupyter-widgets/controls",
            "_model_module_version": "1.5.0",
            "_model_name": "SliderStyleModel",
            "_view_count": null,
            "_view_module": "@jupyter-widgets/base",
            "_view_module_version": "1.2.0",
            "_view_name": "StyleView",
            "description_width": "initial",
            "handle_color": null
          }
        }
      }
    }
  },
  "cells": [
    {
      "cell_type": "markdown",
      "metadata": {
        "id": "view-in-github",
        "colab_type": "text"
      },
      "source": [
        "<a href=\"https://colab.research.google.com/github/Blue22796/Auto-searcher/blob/main/mount_onedrive.ipynb\" target=\"_parent\"><img src=\"https://colab.research.google.com/assets/colab-badge.svg\" alt=\"Open In Colab\"/></a>"
      ]
    },
    {
      "cell_type": "code",
      "metadata": {
        "id": "rxZFBYT97u7Y",
        "cellView": "form"
      },
      "source": [
        "#@markdown Tutorial adapted from https://www.youtube.com/watch?v=U6YPgARhRzA\n",
        "\n",
        "#@markdown The first step is to download a copy of rclone from https://downloads.rclone.org **in your system**, unzip it and execute in a terminal `rclone authorize \"onedrive\"`, log into your account and copy the access token. Then run the cell to install `rclone` in Colab.\n",
        "\n",
        "!wget https://downloads.rclone.org/v1.56.0/rclone-v1.56.0-linux-amd64.deb\n",
        "!apt install ./rclone-v1.56.0-linux-amd64.deb"
      ],
      "execution_count": null,
      "outputs": []
    },
    {
      "cell_type": "code",
      "metadata": {
        "id": "4Bu5pyRi8JIe",
        "cellView": "form"
      },
      "source": [
        "#@markdown Run this cell, and in rclone config, select `n` for new remote, name it `onedrive` and check the number in the list corresponding to onedrive (`26` in the current version). Then press enter for `client_id` and for `client_secret`, then `n` to avoid avanced config and `n` for auto config.\n",
        "#@markdown Then paste the access token code generated in your machine, and select number 1 for \"Onedrive personal\" or \"Onedrive business\"\n",
        "#@markdown Then, in \"found drives\" check that the configuration is ok, depending on the one you want to mount. Then select `y` twice and `q` to quit the configuration.\n",
        "!rclone config"
      ],
      "execution_count": null,
      "outputs": []
    },
    {
      "cell_type": "code",
      "metadata": {
        "id": "vmB5dk1X9wfJ",
        "cellView": "form"
      },
      "source": [
        "#@markdown Then, you can mount the drive in `\\content\\gdrive` to use it seamlessly in the ZeroCostDL4Mic notebooks\n",
        "import os\n",
        "import sys\n",
        "folder_name = \"gdrive\" #@param {type:\"string\"}\n",
        "folder=str('/content/'+folder_name)\n",
        "print(\"Mounted in\",folder)\n",
        "os.mkdir(folder)\n",
        "os.system(\"nohup rclone --vfs-cache-mode writes mount onedrive: %s &\" % folder)"
      ],
      "execution_count": null,
      "outputs": []
    },
    {
      "cell_type": "code",
      "source": [
        "!python -m pip install --upgrade pip setuptools wheel\n",
        "\n",
        "!python -m pip install lbry-libtorrent\n",
        "!apt install python3-libtorrent"
      ],
      "metadata": {
        "colab": {
          "base_uri": "https://localhost:8080/"
        },
        "id": "dXYey5fFCZzB",
        "outputId": "5a5678d2-4930-409d-ad63-94c0ede99c94"
      },
      "execution_count": null,
      "outputs": [
        {
          "output_type": "stream",
          "name": "stdout",
          "text": [
            "Requirement already satisfied: pip in /usr/local/lib/python3.11/dist-packages (25.0.1)\n",
            "Requirement already satisfied: setuptools in /usr/local/lib/python3.11/dist-packages (75.8.0)\n",
            "Requirement already satisfied: wheel in /usr/local/lib/python3.11/dist-packages (0.45.1)\n",
            "\u001b[33mWARNING: Error parsing dependencies of libtorrent: Invalid version: '2.0.5-build-libtorrent-rasterbar-qrM5vM-libtorrent-rasterbar-2.0.5-bindings-python'\u001b[0m\u001b[33m\n",
            "\u001b[0mRequirement already satisfied: lbry-libtorrent in /usr/local/lib/python3.11/dist-packages (1.2.4)\n",
            "\u001b[33mWARNING: Error parsing dependencies of libtorrent: Invalid version: '2.0.5-build-libtorrent-rasterbar-qrM5vM-libtorrent-rasterbar-2.0.5-bindings-python'\u001b[0m\u001b[33m\n",
            "Reading package lists... Done\n",
            "Building dependency tree... Done\n",
            "Reading state information... Done\n",
            "python3-libtorrent is already the newest version (2.0.5-5).\n",
            "0 upgraded, 0 newly installed, 0 to remove and 20 not upgraded.\n"
          ]
        }
      ]
    },
    {
      "cell_type": "code",
      "metadata": {
        "id": "b09BxnANO2ep"
      },
      "source": [
        "%%capture\n",
        "!python -m pip install --upgrade pip setuptools wheel\n",
        "\n",
        "!python -m pip install lbry-libtorrent\n",
        "!apt install python3-libtorrent\n",
        "import libtorrent as lt\n",
        "\n",
        "ses = lt.session()\n",
        "ses.listen_on(6881, 6891)\n",
        "downloads = []"
      ],
      "execution_count": 3,
      "outputs": []
    },
    {
      "cell_type": "code",
      "metadata": {
        "id": "oWM9l2fvtuvO"
      },
      "source": [
        "from google.colab import drive\n",
        "\n",
        "drive.mount(\"/content/drive\")"
      ],
      "execution_count": null,
      "outputs": []
    },
    {
      "cell_type": "code",
      "metadata": {
        "id": "Cwi1GMlxy3te",
        "colab": {
          "base_uri": "https://localhost:8080/"
        },
        "outputId": "646576b0-4499-412f-e7c4-2280eaa0657f"
      },
      "source": [
        "params = {\"save_path\": \"/content/sample_data/Torrent\"}\n",
        "\n",
        "while True:\n",
        "    magnet_link = input(\"Enter Magnet Link Or Type Exit: \")\n",
        "    if magnet_link.lower() == \"exit\":\n",
        "        break\n",
        "    downloads.append(\n",
        "        lt.add_magnet_uri(ses, magnet_link, params)\n",
        "    )\n"
      ],
      "execution_count": 4,
      "outputs": [
        {
          "name": "stdout",
          "output_type": "stream",
          "text": [
            "Enter Magnet Link Or Type Exit: magnet:?xt=urn:btih:64FA662F6FCADD59BAC238715F8E45BC85D6C335&dn=Monster+Hunter+World%3A+Iceborne+-+Master+Edition+%28v15.11.01%2F421471+%2B+242+DLCs%2C+MULTi13%29+%5BFitGirl+Repack%5D&tr=udp%3A%2F%2F46.148.18.250%3A2710&tr=udp%3A%2F%2Fopentor.org%3A2710&tr=udp%3A%2F%2Ftracker.coppersurfer.tk%3A6969%2Fannounce&tr=udp%3A%2F%2Ftracker.opentrackr.org%3A1337%2Fannounce&tr=http%3A%2F%2Ftracker.dler.org%3A6969%2Fannounce&tr=udp%3A%2F%2Ftracker.leechers-paradise.org%3A6969%2Fannounce&tr=udp%3A%2F%2F9.rarbg.me%3A2730%2Fannounce&tr=udp%3A%2F%2F9.rarbg.to%3A2770%2Fannounce&tr=udp%3A%2F%2Ftracker.pirateparty.gr%3A6969%2Fannounce&tr=http%3A%2F%2Fretracker.local%2Fannounce&tr=http%3A%2F%2Fretracker.ip.ncnet.ru%2Fannounce&tr=udp%3A%2F%2Fexodus.desync.com%3A6969%2Fannounce&tr=udp%3A%2F%2Fipv4.tracker.harry.lu%3A80%2Fannounce&tr=udp%3A%2F%2Fopen.stealth.si%3A80%2Fannounce&tr=udp%3A%2F%2Ftracker.opentrackr.org%3A1337%2Fannounce&tr=http%3A%2F%2Ftracker.openbittorrent.com%3A80%2Fannounce&tr=udp%3A%2F%2Fopentracker.i2p.rocks%3A6969%2Fannounce&tr=udp%3A%2F%2Ftracker.internetwarriors.net%3A1337%2Fannounce&tr=udp%3A%2F%2Ftracker.leechers-paradise.org%3A6969%2Fannounce&tr=udp%3A%2F%2Fcoppersurfer.tk%3A6969%2Fannounce&tr=udp%3A%2F%2Ftracker.zer0day.to%3A1337%2Fannounce Enter Magnet Link Or Type Exit: exit  def split_binary_file(input_file, chunk_size= 3 * 1024 * 1024 * 1024):  # 10 GB     with open(input_file, \"rb\") as f:         part = 1         while chunk := f.read(chunk_size):  # Read chunk of at most 10 GB             output_file = f\"{input_file}.part{part}\"             with open(output_file, \"wb\") as out:                 out.write(chunk)             print(f\"Created {output_file}\")             part += 1  # Example usage split_binary_file(\"/content/sample_data/Torrent/Monster Hunter World - Iceborne [FitGirl Repack]/fg-01.bin\")  Created /content/sample_data/Torrent/Monster Hunter World - Iceborne [FitGirl Repack]/fg-01.bin.part1 Created /content/sample_data/Torrent/Monster Hunter World - Iceborne [FitGirl Repack]/fg-01.bin.part2 Created /content/sample_data/Torrent/Monster Hunter World - Iceborne [FitGirl Repack]/fg-01.bin.part3 Created /content/sample_data/Torrent/Monster Hunter World - Iceborne [FitGirl Repack]/fg-01.bin.part4 Created /content/sample_data/Torrent/Monster Hunter World - Iceborne [FitGirl Repack]/fg-01.bin.part5 Created /content/sample_data/Torrent/Monster Hunter World - Iceborne [FitGirl Repack]/fg-01.bin.part6 Created /content/sample_data/Torrent/Monster Hunter World - Iceborne [FitGirl Repack]/fg-01.bin.part7 Created /content/sample_data/Torrent/Monster Hunter World - Iceborne [FitGirl Repack]/fg-01.bin.part8 Created /content/sample_data/Torrent/Monster Hunter World - Iceborne [FitGirl Repack]/fg-01.bin.part9 Created /content/sample_data/Torrent/Monster Hunter World - Iceborne [FitGirl Repack]/fg-01.bin.part10 Created /content/sample_data/Torrent/Monster Hunter World - Iceborne [FitGirl Repack]/fg-01.bin.part11  from googleapiclient.discovery import build from googleapiclient.http import MediaFileUpload from google.oauth2 import service_account  def upload_to_drive(file_path, folder_id=None):     \"\"\"Uploads a file to Google Drive.\"\"\"     SCOPES = ['https://www.googleapis.com/auth/drive.file']     SERVICE_ACCOUNT_FILE = '/content/sample_data/Torrent/Monster Hunter World - Iceborne [FitGirl Repack]/upla-451401-9d12c0fc6635.json'  # Update with your service account JSON file      creds = service_account.Credentials.from_service_account_file(         SERVICE_ACCOUNT_FILE, scopes=SCOPES)      service = build('drive', 'v3', credentials=creds)      file_metadata = {'name': file_path.split('/')[-1]}     if folder_id:         file_metadata['parents'] = [folder_id]      media = MediaFileUpload(file_path, resumable=True)     file = service.files().create(body=file_metadata, media_body=media, fields='id').execute()      print(f'File uploaded successfully, File ID: {file.get(\"id\")}')     return file.get(\"id\")  folders = ['1nB16QQXIhPrCPDuzhVbwTy3fcyMbkT0U', '1EUYpoJti2QmJ0Yd78KnpyLSqK-Izlmp3', '1uu0nED0FmTSDI1WQw4Ypzq0T2ZjXs0xn', '1xBc8aVloW5mVIT2hs-IrVXRYpfxPbMBr'] for i in range(1, 12):   fil = '/content/sample_data/Torrent/Monster Hunter World - Iceborne [FitGirl Repack]/fg-01.bin.part' + str(i)   upload_to_drive(fil, folders[i%len(folders)])   print(fil[-6:])  Colab paid products - Cancel contracts here\n",
            "Enter Magnet Link Or Type Exit: exit\n"
          ]
        }
      ]
    },
    {
      "cell_type": "code",
      "metadata": {
        "id": "DBNoYYoSuDBT",
        "colab": {
          "base_uri": "https://localhost:8080/",
          "height": 35,
          "referenced_widgets": [
            "36a6f2685d69410887bd2322bacfe4c4",
            "291cca627c2443a9878c6293314b7873",
            "8772c8c1f3b24941944b8784d15d8645"
          ]
        },
        "outputId": "b7f12540-7a27-4a78-c117-d6fb6d3781ee"
      },
      "source": [
        "import time\n",
        "from IPython.display import display\n",
        "import ipywidgets as widgets\n",
        "\n",
        "state_str = [\n",
        "    \"queued\",\n",
        "    \"checking\",\n",
        "    \"downloading metadata\",\n",
        "    \"downloading\",\n",
        "    \"finished\",\n",
        "    \"seeding\",\n",
        "    \"allocating\",\n",
        "    \"checking fastresume\",\n",
        "]\n",
        "\n",
        "layout = widgets.Layout(width=\"auto\")\n",
        "style = {\"description_width\": \"initial\"}\n",
        "download_bars = [\n",
        "    widgets.FloatSlider(\n",
        "        step=0.01, disabled=True, layout=layout, style=style\n",
        "    )\n",
        "    for _ in downloads\n",
        "]\n",
        "display(*download_bars)\n",
        "\n",
        "while downloads:\n",
        "    next_shift = 0\n",
        "    for index, download in enumerate(downloads[:]):\n",
        "        bar = download_bars[index + next_shift]\n",
        "        if not download.is_seed():\n",
        "            s = download.status()\n",
        "\n",
        "            bar.description = \" \".join(\n",
        "                [\n",
        "                    download.name(),\n",
        "                    str(s.download_rate / 1000),\n",
        "                    \"kB/s\",\n",
        "                    state_str[s.state],\n",
        "                ]\n",
        "            )\n",
        "            bar.value = s.progress * 100\n",
        "        else:\n",
        "            next_shift -= 1\n",
        "            ses.remove_torrent(download)\n",
        "            downloads.remove(download)\n",
        "            bar.close() # Seems to be not working in Colab (see https://github.com/googlecolab/colabtools/issues/726#issue-486731758)\n",
        "            download_bars.remove(bar)\n",
        "            print(download.name(), \"complete\")\n",
        "    time.sleep(1)\n"
      ],
      "execution_count": 5,
      "outputs": [
        {
          "data": {
            "application/vnd.jupyter.widget-view+json": {
              "model_id": "36a6f2685d69410887bd2322bacfe4c4",
              "version_major": 2,
              "version_minor": 0
            },
            "text/plain": [
              "FloatSlider(value=0.0, disabled=True, layout=Layout(width='auto'), step=0.01, style=SliderStyle(description_wi…"
            ]
          },
          "metadata": {},
          "output_type": "display_data"
        },
        {
          "output_type": "stream",
          "name": "stdout",
          "text": [
            "Monster Hunter World - Iceborne [FitGirl Repack] complete\n"
          ]
        }
      ]
    },
    {
      "cell_type": "code",
      "source": [
        "def split_binary_file(input_file, chunk_size= 3 * 1024 * 1024 * 1024):  # 10 GB\n",
        "    with open(input_file, \"rb\") as f:\n",
        "        part = 1\n",
        "        while chunk := f.read(chunk_size):  # Read chunk of at most 10 GB\n",
        "            output_file = f\"{input_file}.part{part}\"\n",
        "            with open(output_file, \"wb\") as out:\n",
        "                out.write(chunk)\n",
        "            print(f\"Created {output_file}\")\n",
        "            part += 1\n"
      ],
      "metadata": {
        "id": "8pF3NaKzIGOC"
      },
      "execution_count": 6,
      "outputs": []
    },
    {
      "cell_type": "code",
      "source": [
        "# Example usage\n",
        "split_binary_file(\"/content/sample_data/Torrent/Monster Hunter World - Iceborne [FitGirl Repack]/fg-01.bin\")\n"
      ],
      "metadata": {
        "colab": {
          "base_uri": "https://localhost:8080/"
        },
        "id": "7SR4URRiKsPP",
        "outputId": "63778c02-bb0b-4f81-80bb-197dffa0743c"
      },
      "execution_count": 7,
      "outputs": [
        {
          "output_type": "stream",
          "name": "stdout",
          "text": [
            "Created /content/sample_data/Torrent/Monster Hunter World - Iceborne [FitGirl Repack]/fg-01.bin.part1\n",
            "Created /content/sample_data/Torrent/Monster Hunter World - Iceborne [FitGirl Repack]/fg-01.bin.part2\n",
            "Created /content/sample_data/Torrent/Monster Hunter World - Iceborne [FitGirl Repack]/fg-01.bin.part3\n",
            "Created /content/sample_data/Torrent/Monster Hunter World - Iceborne [FitGirl Repack]/fg-01.bin.part4\n",
            "Created /content/sample_data/Torrent/Monster Hunter World - Iceborne [FitGirl Repack]/fg-01.bin.part5\n",
            "Created /content/sample_data/Torrent/Monster Hunter World - Iceborne [FitGirl Repack]/fg-01.bin.part6\n",
            "Created /content/sample_data/Torrent/Monster Hunter World - Iceborne [FitGirl Repack]/fg-01.bin.part7\n",
            "Created /content/sample_data/Torrent/Monster Hunter World - Iceborne [FitGirl Repack]/fg-01.bin.part8\n",
            "Created /content/sample_data/Torrent/Monster Hunter World - Iceborne [FitGirl Repack]/fg-01.bin.part9\n",
            "Created /content/sample_data/Torrent/Monster Hunter World - Iceborne [FitGirl Repack]/fg-01.bin.part10\n",
            "Created /content/sample_data/Torrent/Monster Hunter World - Iceborne [FitGirl Repack]/fg-01.bin.part11\n"
          ]
        }
      ]
    },
    {
      "cell_type": "code",
      "source": [
        "from googleapiclient.discovery import build\n",
        "from googleapiclient.http import MediaFileUpload\n",
        "from google.oauth2 import service_account\n",
        "\n",
        "def upload_to_drive(file_path, folder_id=None):\n",
        "    \"\"\"Uploads a file to Google Drive.\"\"\"\n",
        "    SCOPES = ['https://www.googleapis.com/auth/drive.file']\n",
        "    SERVICE_ACCOUNT_FILE = '/content/sample_data/Torrent/Monster Hunter World - Iceborne [FitGirl Repack]/glossy-flow-451423-k9-56b7c048a172.json'  # Update with your service account JSON file\n",
        "\n",
        "    creds = service_account.Credentials.from_service_account_file(\n",
        "        SERVICE_ACCOUNT_FILE, scopes=SCOPES)\n",
        "\n",
        "    service = build('drive', 'v3', credentials=creds)\n",
        "\n",
        "    file_metadata = {'name': file_path.split('/')[-1]}\n",
        "    if folder_id:\n",
        "        file_metadata['parents'] = [folder_id]\n",
        "\n",
        "    media = MediaFileUpload(file_path, resumable=True)\n",
        "    file = service.files().create(body=file_metadata, media_body=media, fields='id').execute()\n",
        "\n",
        "    print(f'File uploaded successfully, File ID: {file.get(\"id\")}')\n",
        "    return file.get(\"id\")\n"
      ],
      "metadata": {
        "id": "tdOQ2W5nb1Sf"
      },
      "execution_count": 46,
      "outputs": []
    },
    {
      "cell_type": "code",
      "source": [
        "folders = ['1nB16QQXIhPrCPDuzhVbwTy3fcyMbkT0U', '1EUYpoJti2QmJ0Yd78KnpyLSqK-Izlmp3', '1uu0nED0FmTSDI1WQw4Ypzq0T2ZjXs0xn', '1xBc8aVloW5mVIT2hs-IrVXRYpfxPbMBr']\n",
        "for i in range(11, 12):\n",
        "  fil = '/content/sample_data/Torrent/Monster Hunter World - Iceborne [FitGirl Repack]/fg-01.bin.part' + str(i)\n",
        "  upload_to_drive(fil, folders[i%len(folders)])\n",
        "  print(fil[-6:])"
      ],
      "metadata": {
        "colab": {
          "base_uri": "https://localhost:8080/"
        },
        "id": "ZPrEcJWAb6JG",
        "outputId": "06ff84ce-73ab-4fdb-9b63-6660029b4a46"
      },
      "execution_count": 51,
      "outputs": [
        {
          "output_type": "stream",
          "name": "stdout",
          "text": [
            "File uploaded successfully, File ID: 1x56_xH7UL94VGgQNN-fAUcLkdLo6WSDH\n",
            "part11\n"
          ]
        }
      ]
    },
    {
      "cell_type": "code",
      "source": [
        "from googleapiclient.discovery import build\n",
        "from google.oauth2.credentials import Credentials\n",
        "\n",
        "# Replace with your token or OAuth credentials\n",
        "SCOPES = ['https://www.googleapis.com/auth/drive.file']\n",
        "SERVICE_ACCOUNT_FILE = '/content/sample_data/Torrent/Monster Hunter World - Iceborne [FitGirl Repack]/glossy-flow-451423-k9-56b7c048a172.json'  # Update with your service account JSON file\n",
        "creds = service_account.Credentials.from_service_account_file(\n",
        "        SERVICE_ACCOUNT_FILE, scopes=SCOPES)\n",
        "\n",
        "drive_service = build(\"drive\", \"v3\", credentials=creds)\n",
        "\n",
        "def list_files():\n",
        "    results = drive_service.files().list(fields=\"files(id, name)\").execute()\n",
        "    files = results.get(\"files\", [])\n",
        "\n",
        "    if not files:\n",
        "        print(\"No files found.\")\n",
        "    else:\n",
        "        for file in files:\n",
        "            print(f\"Found file: {file['name']} (ID: {file['id']})\")\n",
        "\n",
        "list_files()"
      ],
      "metadata": {
        "id": "nuv0-QGA7WQZ",
        "outputId": "5c4482c1-b30d-4233-923b-98a38b350bd8",
        "colab": {
          "base_uri": "https://localhost:8080/"
        }
      },
      "execution_count": 50,
      "outputs": [
        {
          "output_type": "stream",
          "name": "stdout",
          "text": [
            "No files found.\n"
          ]
        }
      ]
    },
    {
      "cell_type": "code",
      "source": [
        "def delete_all_files():\n",
        "    results = drive_service.files().list(fields=\"files(id, name)\").execute()\n",
        "    files = results.get(\"files\", [])\n",
        "\n",
        "    if not files:\n",
        "        print(\"No files to delete.\")\n",
        "        return\n",
        "\n",
        "    for file in files:\n",
        "        try:\n",
        "            drive_service.files().delete(fileId=file[\"id\"]).execute()\n",
        "            print(f\"Deleted: {file['name']} (ID: {file['id']})\")\n",
        "        except Exception as e:\n",
        "            print(f\"Failed to delete {file['name']}: {e}\")\n",
        "\n",
        "delete_all_files()"
      ],
      "metadata": {
        "id": "TfHH4A1077Pl",
        "outputId": "b8a2961a-89c8-4e01-ae53-ff95a40742d8",
        "colab": {
          "base_uri": "https://localhost:8080/"
        }
      },
      "execution_count": 48,
      "outputs": [
        {
          "output_type": "stream",
          "name": "stdout",
          "text": [
            "Deleted: fg-01.bin.part10 (ID: 17i81HVWhf3T_sEe4DFGS5NjyEugUHICo)\n",
            "Deleted: fg-01.bin.part9 (ID: 1LtlXNlJOKB375PqhEzRiEuF2u_n0tZMo)\n",
            "Deleted: fg-01.bin.part8 (ID: 1czhA7fSWwkma3BghMUr120a2Uh6hr3qx)\n",
            "Deleted: fg-01.bin.part7 (ID: 1jZUq0ug2M8RIu139y_dZO9j9jpEen97f)\n",
            "Deleted: fg-01.bin.part6 (ID: 1ZquvjKkFTyij_OYa_DOFl013Pva-zDNr)\n"
          ]
        }
      ]
    }
  ]
}